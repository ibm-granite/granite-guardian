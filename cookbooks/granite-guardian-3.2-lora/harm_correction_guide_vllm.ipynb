{
 "cells": [
  {
   "cell_type": "markdown",
   "id": "18c3361af3345171",
   "metadata": {},
   "source": [
    "# Granite Guardian 3.2 5B Harm Correction LoRA: Detailed Guide \n",
    "\n",
    "Link to 🤗 model: [Granite-Guardian-3.2-5B](https://huggingface.co/ibm-granite/granite-guardian-3.2-5b)\n",
    "\n",
    "Link to 🤗 model: [Harm Correction LoRA](https://huggingface.co/ibm-granite/granite-guardian-3.2-5b-lora-harm-correction)\n",
    "\n",
    "<span style=\"color: red;\">Content Warning</span>: *The examples used in this page may contain offensive language, stereotypes, or discriminatory content.*"
   ]
  },
  {
   "cell_type": "code",
   "execution_count": 1,
   "id": "db5473ae",
   "metadata": {},
   "outputs": [
    {
     "name": "stdout",
     "output_type": "stream",
     "text": [
      "Requirement already satisfied: vllm==0.9.1 in /Users/mominabbas/miniconda3/lib/python3.12/site-packages (0.9.1)\n",
      "Requirement already satisfied: regex in /Users/mominabbas/miniconda3/lib/python3.12/site-packages (from vllm==0.9.1) (2024.11.6)\n",
      "Requirement already satisfied: cachetools in /Users/mominabbas/miniconda3/lib/python3.12/site-packages (from vllm==0.9.1) (6.1.0)\n",
      "Requirement already satisfied: psutil in /Users/mominabbas/miniconda3/lib/python3.12/site-packages (from vllm==0.9.1) (7.0.0)\n",
      "Requirement already satisfied: sentencepiece in /Users/mominabbas/miniconda3/lib/python3.12/site-packages (from vllm==0.9.1) (0.2.1)\n",
      "Requirement already satisfied: numpy in /Users/mominabbas/miniconda3/lib/python3.12/site-packages (from vllm==0.9.1) (2.2.3)\n",
      "Requirement already satisfied: requests>=2.26.0 in /Users/mominabbas/miniconda3/lib/python3.12/site-packages (from vllm==0.9.1) (2.32.3)\n",
      "Requirement already satisfied: tqdm in /Users/mominabbas/miniconda3/lib/python3.12/site-packages (from vllm==0.9.1) (4.66.5)\n",
      "Requirement already satisfied: blake3 in /Users/mominabbas/miniconda3/lib/python3.12/site-packages (from vllm==0.9.1) (1.0.5)\n",
      "Requirement already satisfied: py-cpuinfo in /Users/mominabbas/miniconda3/lib/python3.12/site-packages (from vllm==0.9.1) (9.0.0)\n",
      "Requirement already satisfied: transformers>=4.51.1 in /Users/mominabbas/miniconda3/lib/python3.12/site-packages (from vllm==0.9.1) (4.53.3)\n",
      "Requirement already satisfied: huggingface-hub>=0.32.0 in /Users/mominabbas/miniconda3/lib/python3.12/site-packages (from huggingface-hub[hf_xet]>=0.32.0->vllm==0.9.1) (0.34.4)\n",
      "Requirement already satisfied: tokenizers>=0.21.1 in /Users/mominabbas/miniconda3/lib/python3.12/site-packages (from vllm==0.9.1) (0.21.4)\n",
      "Requirement already satisfied: protobuf in /Users/mominabbas/miniconda3/lib/python3.12/site-packages (from vllm==0.9.1) (6.31.1)\n",
      "Requirement already satisfied: fastapi>=0.115.0 in /Users/mominabbas/miniconda3/lib/python3.12/site-packages (from fastapi[standard]>=0.115.0->vllm==0.9.1) (0.116.1)\n",
      "Requirement already satisfied: aiohttp in /Users/mominabbas/miniconda3/lib/python3.12/site-packages (from vllm==0.9.1) (3.12.15)\n",
      "Requirement already satisfied: openai>=1.52.0 in /Users/mominabbas/miniconda3/lib/python3.12/site-packages (from vllm==0.9.1) (1.90.0)\n",
      "Requirement already satisfied: pydantic>=2.10 in /Users/mominabbas/miniconda3/lib/python3.12/site-packages (from vllm==0.9.1) (2.10.3)\n",
      "Requirement already satisfied: prometheus_client>=0.18.0 in /Users/mominabbas/miniconda3/lib/python3.12/site-packages (from vllm==0.9.1) (0.22.1)\n",
      "Requirement already satisfied: pillow in /Users/mominabbas/miniconda3/lib/python3.12/site-packages (from vllm==0.9.1) (11.3.0)\n",
      "Requirement already satisfied: prometheus-fastapi-instrumentator>=7.0.0 in /Users/mominabbas/miniconda3/lib/python3.12/site-packages (from vllm==0.9.1) (7.1.0)\n",
      "Requirement already satisfied: tiktoken>=0.6.0 in /Users/mominabbas/miniconda3/lib/python3.12/site-packages (from vllm==0.9.1) (0.11.0)\n",
      "Requirement already satisfied: lm-format-enforcer<0.11,>=0.10.11 in /Users/mominabbas/miniconda3/lib/python3.12/site-packages (from vllm==0.9.1) (0.10.12)\n",
      "Requirement already satisfied: llguidance<0.8.0,>=0.7.11 in /Users/mominabbas/miniconda3/lib/python3.12/site-packages (from vllm==0.9.1) (0.7.30)\n",
      "Requirement already satisfied: outlines==0.1.11 in /Users/mominabbas/miniconda3/lib/python3.12/site-packages (from vllm==0.9.1) (0.1.11)\n",
      "Requirement already satisfied: lark==1.2.2 in /Users/mominabbas/miniconda3/lib/python3.12/site-packages (from vllm==0.9.1) (1.2.2)\n",
      "Requirement already satisfied: typing_extensions>=4.10 in /Users/mominabbas/miniconda3/lib/python3.12/site-packages (from vllm==0.9.1) (4.12.2)\n",
      "Requirement already satisfied: filelock>=3.16.1 in /Users/mominabbas/miniconda3/lib/python3.12/site-packages (from vllm==0.9.1) (3.17.0)\n",
      "Requirement already satisfied: partial-json-parser in /Users/mominabbas/miniconda3/lib/python3.12/site-packages (from vllm==0.9.1) (0.2.1.1.post6)\n",
      "Requirement already satisfied: pyzmq>=25.0.0 in /Users/mominabbas/miniconda3/lib/python3.12/site-packages (from vllm==0.9.1) (27.0.1)\n",
      "Requirement already satisfied: msgspec in /Users/mominabbas/miniconda3/lib/python3.12/site-packages (from vllm==0.9.1) (0.19.0)\n",
      "Requirement already satisfied: gguf>=0.13.0 in /Users/mominabbas/miniconda3/lib/python3.12/site-packages (from vllm==0.9.1) (0.17.1)\n",
      "Requirement already satisfied: mistral_common>=1.5.4 in /Users/mominabbas/miniconda3/lib/python3.12/site-packages (from mistral_common[opencv]>=1.5.4->vllm==0.9.1) (1.8.3)\n",
      "Requirement already satisfied: opencv-python-headless>=4.11.0 in /Users/mominabbas/miniconda3/lib/python3.12/site-packages (from vllm==0.9.1) (4.12.0.88)\n",
      "Requirement already satisfied: pyyaml in /Users/mominabbas/miniconda3/lib/python3.12/site-packages (from vllm==0.9.1) (6.0.2)\n",
      "Requirement already satisfied: six>=1.16.0 in /Users/mominabbas/miniconda3/lib/python3.12/site-packages (from vllm==0.9.1) (1.17.0)\n",
      "Requirement already satisfied: setuptools<80,>=77.0.3 in /Users/mominabbas/miniconda3/lib/python3.12/site-packages (from vllm==0.9.1) (79.0.1)\n",
      "Requirement already satisfied: einops in /Users/mominabbas/miniconda3/lib/python3.12/site-packages (from vllm==0.9.1) (0.8.1)\n",
      "Requirement already satisfied: compressed-tensors==0.10.1 in /Users/mominabbas/miniconda3/lib/python3.12/site-packages (from vllm==0.9.1) (0.10.1)\n",
      "Requirement already satisfied: depyf==0.18.0 in /Users/mominabbas/miniconda3/lib/python3.12/site-packages (from vllm==0.9.1) (0.18.0)\n",
      "Requirement already satisfied: cloudpickle in /Users/mominabbas/miniconda3/lib/python3.12/site-packages (from vllm==0.9.1) (3.1.1)\n",
      "Requirement already satisfied: watchfiles in /Users/mominabbas/miniconda3/lib/python3.12/site-packages (from vllm==0.9.1) (1.1.0)\n",
      "Requirement already satisfied: python-json-logger in /Users/mominabbas/miniconda3/lib/python3.12/site-packages (from vllm==0.9.1) (3.3.0)\n",
      "Requirement already satisfied: scipy in /Users/mominabbas/miniconda3/lib/python3.12/site-packages (from vllm==0.9.1) (1.16.1)\n",
      "Requirement already satisfied: ninja in /Users/mominabbas/miniconda3/lib/python3.12/site-packages (from vllm==0.9.1) (1.13.0)\n",
      "Requirement already satisfied: opentelemetry-sdk>=1.26.0 in /Users/mominabbas/miniconda3/lib/python3.12/site-packages (from vllm==0.9.1) (1.36.0)\n",
      "Requirement already satisfied: opentelemetry-api>=1.26.0 in /Users/mominabbas/miniconda3/lib/python3.12/site-packages (from vllm==0.9.1) (1.36.0)\n",
      "Requirement already satisfied: opentelemetry-exporter-otlp>=1.26.0 in /Users/mominabbas/miniconda3/lib/python3.12/site-packages (from vllm==0.9.1) (1.36.0)\n",
      "Requirement already satisfied: opentelemetry-semantic-conventions-ai>=0.4.1 in /Users/mominabbas/miniconda3/lib/python3.12/site-packages (from vllm==0.9.1) (0.4.12)\n",
      "Requirement already satisfied: numba==0.61.2 in /Users/mominabbas/miniconda3/lib/python3.12/site-packages (from vllm==0.9.1) (0.61.2)\n",
      "Requirement already satisfied: packaging>=24.2 in /Users/mominabbas/miniconda3/lib/python3.12/site-packages (from vllm==0.9.1) (24.2)\n",
      "Requirement already satisfied: torch==2.7.0 in /Users/mominabbas/miniconda3/lib/python3.12/site-packages (from vllm==0.9.1) (2.7.0)\n",
      "Requirement already satisfied: torchaudio in /Users/mominabbas/miniconda3/lib/python3.12/site-packages (from vllm==0.9.1) (2.7.0)\n",
      "Requirement already satisfied: torchvision in /Users/mominabbas/miniconda3/lib/python3.12/site-packages (from vllm==0.9.1) (0.22.0)\n",
      "Requirement already satisfied: datasets in /Users/mominabbas/miniconda3/lib/python3.12/site-packages (from vllm==0.9.1) (4.0.0)\n",
      "Requirement already satisfied: astor in /Users/mominabbas/miniconda3/lib/python3.12/site-packages (from depyf==0.18.0->vllm==0.9.1) (0.8.1)\n",
      "Requirement already satisfied: dill in /Users/mominabbas/miniconda3/lib/python3.12/site-packages (from depyf==0.18.0->vllm==0.9.1) (0.3.8)\n",
      "Requirement already satisfied: llvmlite<0.45,>=0.44.0dev0 in /Users/mominabbas/miniconda3/lib/python3.12/site-packages (from numba==0.61.2->vllm==0.9.1) (0.44.0)\n",
      "Requirement already satisfied: interegular in /Users/mominabbas/miniconda3/lib/python3.12/site-packages (from outlines==0.1.11->vllm==0.9.1) (0.3.3)\n",
      "Requirement already satisfied: jinja2 in /Users/mominabbas/miniconda3/lib/python3.12/site-packages (from outlines==0.1.11->vllm==0.9.1) (3.1.5)\n",
      "Requirement already satisfied: nest_asyncio in /Users/mominabbas/miniconda3/lib/python3.12/site-packages (from outlines==0.1.11->vllm==0.9.1) (1.6.0)\n",
      "Requirement already satisfied: diskcache in /Users/mominabbas/miniconda3/lib/python3.12/site-packages (from outlines==0.1.11->vllm==0.9.1) (5.6.3)\n",
      "Requirement already satisfied: referencing in /Users/mominabbas/miniconda3/lib/python3.12/site-packages (from outlines==0.1.11->vllm==0.9.1) (0.36.2)\n",
      "Requirement already satisfied: jsonschema in /Users/mominabbas/miniconda3/lib/python3.12/site-packages (from outlines==0.1.11->vllm==0.9.1) (4.25.0)\n",
      "Requirement already satisfied: pycountry in /Users/mominabbas/miniconda3/lib/python3.12/site-packages (from outlines==0.1.11->vllm==0.9.1) (24.6.1)\n",
      "Requirement already satisfied: airportsdata in /Users/mominabbas/miniconda3/lib/python3.12/site-packages (from outlines==0.1.11->vllm==0.9.1) (20250811)\n",
      "Requirement already satisfied: outlines_core==0.1.26 in /Users/mominabbas/miniconda3/lib/python3.12/site-packages (from outlines==0.1.11->vllm==0.9.1) (0.1.26)\n",
      "Requirement already satisfied: sympy>=1.13.3 in /Users/mominabbas/miniconda3/lib/python3.12/site-packages (from torch==2.7.0->vllm==0.9.1) (1.14.0)\n",
      "Requirement already satisfied: networkx in /Users/mominabbas/miniconda3/lib/python3.12/site-packages (from torch==2.7.0->vllm==0.9.1) (3.4.2)\n",
      "Requirement already satisfied: fsspec in /Users/mominabbas/miniconda3/lib/python3.12/site-packages (from torch==2.7.0->vllm==0.9.1) (2025.2.0)\n",
      "Requirement already satisfied: starlette<0.48.0,>=0.40.0 in /Users/mominabbas/miniconda3/lib/python3.12/site-packages (from fastapi>=0.115.0->fastapi[standard]>=0.115.0->vllm==0.9.1) (0.47.2)\n",
      "Requirement already satisfied: fastapi-cli>=0.0.8 in /Users/mominabbas/miniconda3/lib/python3.12/site-packages (from fastapi-cli[standard]>=0.0.8; extra == \"standard\"->fastapi[standard]>=0.115.0->vllm==0.9.1) (0.0.8)\n",
      "Requirement already satisfied: httpx>=0.23.0 in /Users/mominabbas/miniconda3/lib/python3.12/site-packages (from fastapi[standard]>=0.115.0->vllm==0.9.1) (0.28.1)\n",
      "Requirement already satisfied: python-multipart>=0.0.18 in /Users/mominabbas/miniconda3/lib/python3.12/site-packages (from fastapi[standard]>=0.115.0->vllm==0.9.1) (0.0.20)\n",
      "Requirement already satisfied: email-validator>=2.0.0 in /Users/mominabbas/miniconda3/lib/python3.12/site-packages (from fastapi[standard]>=0.115.0->vllm==0.9.1) (2.2.0)\n",
      "Requirement already satisfied: uvicorn>=0.12.0 in /Users/mominabbas/miniconda3/lib/python3.12/site-packages (from uvicorn[standard]>=0.12.0; extra == \"standard\"->fastapi[standard]>=0.115.0->vllm==0.9.1) (0.35.0)\n",
      "Requirement already satisfied: hf-xet<2.0.0,>=1.1.3 in /Users/mominabbas/miniconda3/lib/python3.12/site-packages (from huggingface-hub>=0.32.0->huggingface-hub[hf_xet]>=0.32.0->vllm==0.9.1) (1.1.7)\n",
      "Requirement already satisfied: pydantic-extra-types>=2.10.5 in /Users/mominabbas/miniconda3/lib/python3.12/site-packages (from pydantic-extra-types[pycountry]>=2.10.5->mistral_common>=1.5.4->mistral_common[opencv]>=1.5.4->vllm==0.9.1) (2.10.5)\n",
      "Requirement already satisfied: anyio<5,>=3.5.0 in /Users/mominabbas/miniconda3/lib/python3.12/site-packages (from openai>=1.52.0->vllm==0.9.1) (4.10.0)\n",
      "Requirement already satisfied: distro<2,>=1.7.0 in /Users/mominabbas/miniconda3/lib/python3.12/site-packages (from openai>=1.52.0->vllm==0.9.1) (1.9.0)\n",
      "Requirement already satisfied: jiter<1,>=0.4.0 in /Users/mominabbas/miniconda3/lib/python3.12/site-packages (from openai>=1.52.0->vllm==0.9.1) (0.10.0)\n",
      "Requirement already satisfied: sniffio in /Users/mominabbas/miniconda3/lib/python3.12/site-packages (from openai>=1.52.0->vllm==0.9.1) (1.3.1)\n",
      "Requirement already satisfied: importlib-metadata<8.8.0,>=6.0 in /Users/mominabbas/miniconda3/lib/python3.12/site-packages (from opentelemetry-api>=1.26.0->vllm==0.9.1) (8.7.0)\n",
      "Requirement already satisfied: opentelemetry-exporter-otlp-proto-grpc==1.36.0 in /Users/mominabbas/miniconda3/lib/python3.12/site-packages (from opentelemetry-exporter-otlp>=1.26.0->vllm==0.9.1) (1.36.0)\n",
      "Requirement already satisfied: opentelemetry-exporter-otlp-proto-http==1.36.0 in /Users/mominabbas/miniconda3/lib/python3.12/site-packages (from opentelemetry-exporter-otlp>=1.26.0->vllm==0.9.1) (1.36.0)\n",
      "Requirement already satisfied: googleapis-common-protos~=1.57 in /Users/mominabbas/miniconda3/lib/python3.12/site-packages (from opentelemetry-exporter-otlp-proto-grpc==1.36.0->opentelemetry-exporter-otlp>=1.26.0->vllm==0.9.1) (1.70.0)\n",
      "Requirement already satisfied: grpcio<2.0.0,>=1.63.2 in /Users/mominabbas/miniconda3/lib/python3.12/site-packages (from opentelemetry-exporter-otlp-proto-grpc==1.36.0->opentelemetry-exporter-otlp>=1.26.0->vllm==0.9.1) (1.74.0)\n",
      "Requirement already satisfied: opentelemetry-exporter-otlp-proto-common==1.36.0 in /Users/mominabbas/miniconda3/lib/python3.12/site-packages (from opentelemetry-exporter-otlp-proto-grpc==1.36.0->opentelemetry-exporter-otlp>=1.26.0->vllm==0.9.1) (1.36.0)\n",
      "Requirement already satisfied: opentelemetry-proto==1.36.0 in /Users/mominabbas/miniconda3/lib/python3.12/site-packages (from opentelemetry-exporter-otlp-proto-grpc==1.36.0->opentelemetry-exporter-otlp>=1.26.0->vllm==0.9.1) (1.36.0)\n",
      "Requirement already satisfied: opentelemetry-semantic-conventions==0.57b0 in /Users/mominabbas/miniconda3/lib/python3.12/site-packages (from opentelemetry-sdk>=1.26.0->vllm==0.9.1) (0.57b0)\n",
      "Requirement already satisfied: annotated-types>=0.6.0 in /Users/mominabbas/miniconda3/lib/python3.12/site-packages (from pydantic>=2.10->vllm==0.9.1) (0.6.0)\n",
      "Requirement already satisfied: pydantic-core==2.27.1 in /Users/mominabbas/miniconda3/lib/python3.12/site-packages (from pydantic>=2.10->vllm==0.9.1) (2.27.1)\n",
      "Requirement already satisfied: charset-normalizer<4,>=2 in /Users/mominabbas/miniconda3/lib/python3.12/site-packages (from requests>=2.26.0->vllm==0.9.1) (3.3.2)\n",
      "Requirement already satisfied: idna<4,>=2.5 in /Users/mominabbas/miniconda3/lib/python3.12/site-packages (from requests>=2.26.0->vllm==0.9.1) (3.7)\n",
      "Requirement already satisfied: urllib3<3,>=1.21.1 in /Users/mominabbas/miniconda3/lib/python3.12/site-packages (from requests>=2.26.0->vllm==0.9.1) (2.3.0)\n",
      "Requirement already satisfied: certifi>=2017.4.17 in /Users/mominabbas/miniconda3/lib/python3.12/site-packages (from requests>=2.26.0->vllm==0.9.1) (2024.12.14)\n",
      "Requirement already satisfied: safetensors>=0.4.3 in /Users/mominabbas/miniconda3/lib/python3.12/site-packages (from transformers>=4.51.1->vllm==0.9.1) (0.5.2)\n",
      "Requirement already satisfied: aiohappyeyeballs>=2.5.0 in /Users/mominabbas/miniconda3/lib/python3.12/site-packages (from aiohttp->vllm==0.9.1) (2.6.1)\n",
      "Requirement already satisfied: aiosignal>=1.4.0 in /Users/mominabbas/miniconda3/lib/python3.12/site-packages (from aiohttp->vllm==0.9.1) (1.4.0)\n",
      "Requirement already satisfied: attrs>=17.3.0 in /Users/mominabbas/miniconda3/lib/python3.12/site-packages (from aiohttp->vllm==0.9.1) (25.3.0)\n",
      "Requirement already satisfied: frozenlist>=1.1.1 in /Users/mominabbas/miniconda3/lib/python3.12/site-packages (from aiohttp->vllm==0.9.1) (1.7.0)\n",
      "Requirement already satisfied: multidict<7.0,>=4.5 in /Users/mominabbas/miniconda3/lib/python3.12/site-packages (from aiohttp->vllm==0.9.1) (6.6.4)\n",
      "Requirement already satisfied: propcache>=0.2.0 in /Users/mominabbas/miniconda3/lib/python3.12/site-packages (from aiohttp->vllm==0.9.1) (0.3.2)\n",
      "Requirement already satisfied: yarl<2.0,>=1.17.0 in /Users/mominabbas/miniconda3/lib/python3.12/site-packages (from aiohttp->vllm==0.9.1) (1.20.1)\n",
      "Requirement already satisfied: pyarrow>=15.0.0 in /Users/mominabbas/miniconda3/lib/python3.12/site-packages (from datasets->vllm==0.9.1) (21.0.0)\n",
      "Requirement already satisfied: pandas in /Users/mominabbas/miniconda3/lib/python3.12/site-packages (from datasets->vllm==0.9.1) (2.3.1)\n",
      "Requirement already satisfied: xxhash in /Users/mominabbas/miniconda3/lib/python3.12/site-packages (from datasets->vllm==0.9.1) (3.5.0)\n",
      "Requirement already satisfied: multiprocess<0.70.17 in /Users/mominabbas/miniconda3/lib/python3.12/site-packages (from datasets->vllm==0.9.1) (0.70.16)\n",
      "Requirement already satisfied: dnspython>=2.0.0 in /Users/mominabbas/miniconda3/lib/python3.12/site-packages (from email-validator>=2.0.0->fastapi[standard]>=0.115.0->vllm==0.9.1) (2.7.0)\n",
      "Requirement already satisfied: typer>=0.15.1 in /Users/mominabbas/miniconda3/lib/python3.12/site-packages (from fastapi-cli>=0.0.8->fastapi-cli[standard]>=0.0.8; extra == \"standard\"->fastapi[standard]>=0.115.0->vllm==0.9.1) (0.16.0)\n",
      "Requirement already satisfied: rich-toolkit>=0.14.8 in /Users/mominabbas/miniconda3/lib/python3.12/site-packages (from fastapi-cli>=0.0.8->fastapi-cli[standard]>=0.0.8; extra == \"standard\"->fastapi[standard]>=0.115.0->vllm==0.9.1) (0.15.0)\n",
      "Requirement already satisfied: fastapi-cloud-cli>=0.1.1 in /Users/mominabbas/miniconda3/lib/python3.12/site-packages (from fastapi-cli[standard]>=0.0.8; extra == \"standard\"->fastapi[standard]>=0.115.0->vllm==0.9.1) (0.1.5)\n",
      "Requirement already satisfied: httpcore==1.* in /Users/mominabbas/miniconda3/lib/python3.12/site-packages (from httpx>=0.23.0->fastapi[standard]>=0.115.0->vllm==0.9.1) (1.0.9)\n",
      "Requirement already satisfied: h11>=0.16 in /Users/mominabbas/miniconda3/lib/python3.12/site-packages (from httpcore==1.*->httpx>=0.23.0->fastapi[standard]>=0.115.0->vllm==0.9.1) (0.16.0)\n",
      "Requirement already satisfied: zipp>=3.20 in /Users/mominabbas/miniconda3/lib/python3.12/site-packages (from importlib-metadata<8.8.0,>=6.0->opentelemetry-api>=1.26.0->vllm==0.9.1) (3.23.0)\n",
      "Requirement already satisfied: MarkupSafe>=2.0 in /Users/mominabbas/miniconda3/lib/python3.12/site-packages (from jinja2->outlines==0.1.11->vllm==0.9.1) (3.0.2)\n",
      "Requirement already satisfied: jsonschema-specifications>=2023.03.6 in /Users/mominabbas/miniconda3/lib/python3.12/site-packages (from jsonschema->outlines==0.1.11->vllm==0.9.1) (2025.4.1)\n",
      "Requirement already satisfied: rpds-py>=0.7.1 in /Users/mominabbas/miniconda3/lib/python3.12/site-packages (from jsonschema->outlines==0.1.11->vllm==0.9.1) (0.27.0)\n",
      "Requirement already satisfied: mpmath<1.4,>=1.1.0 in /Users/mominabbas/miniconda3/lib/python3.12/site-packages (from sympy>=1.13.3->torch==2.7.0->vllm==0.9.1) (1.3.0)\n",
      "Requirement already satisfied: click>=7.0 in /Users/mominabbas/miniconda3/lib/python3.12/site-packages (from uvicorn>=0.12.0->uvicorn[standard]>=0.12.0; extra == \"standard\"->fastapi[standard]>=0.115.0->vllm==0.9.1) (8.2.1)\n",
      "Requirement already satisfied: httptools>=0.6.3 in /Users/mominabbas/miniconda3/lib/python3.12/site-packages (from uvicorn[standard]>=0.12.0; extra == \"standard\"->fastapi[standard]>=0.115.0->vllm==0.9.1) (0.6.4)\n",
      "Requirement already satisfied: python-dotenv>=0.13 in /Users/mominabbas/miniconda3/lib/python3.12/site-packages (from uvicorn[standard]>=0.12.0; extra == \"standard\"->fastapi[standard]>=0.115.0->vllm==0.9.1) (1.1.1)\n",
      "Requirement already satisfied: uvloop>=0.15.1 in /Users/mominabbas/miniconda3/lib/python3.12/site-packages (from uvicorn[standard]>=0.12.0; extra == \"standard\"->fastapi[standard]>=0.115.0->vllm==0.9.1) (0.21.0)\n",
      "Requirement already satisfied: websockets>=10.4 in /Users/mominabbas/miniconda3/lib/python3.12/site-packages (from uvicorn[standard]>=0.12.0; extra == \"standard\"->fastapi[standard]>=0.115.0->vllm==0.9.1) (15.0.1)\n",
      "Requirement already satisfied: python-dateutil>=2.8.2 in /Users/mominabbas/miniconda3/lib/python3.12/site-packages (from pandas->datasets->vllm==0.9.1) (2.9.0.post0)\n",
      "Requirement already satisfied: pytz>=2020.1 in /Users/mominabbas/miniconda3/lib/python3.12/site-packages (from pandas->datasets->vllm==0.9.1) (2025.2)\n",
      "Requirement already satisfied: tzdata>=2022.7 in /Users/mominabbas/miniconda3/lib/python3.12/site-packages (from pandas->datasets->vllm==0.9.1) (2025.2)\n",
      "Requirement already satisfied: rignore>=0.5.1 in /Users/mominabbas/miniconda3/lib/python3.12/site-packages (from fastapi-cloud-cli>=0.1.1->fastapi-cli[standard]>=0.0.8; extra == \"standard\"->fastapi[standard]>=0.115.0->vllm==0.9.1) (0.6.4)\n",
      "Requirement already satisfied: sentry-sdk>=2.20.0 in /Users/mominabbas/miniconda3/lib/python3.12/site-packages (from fastapi-cloud-cli>=0.1.1->fastapi-cli[standard]>=0.0.8; extra == \"standard\"->fastapi[standard]>=0.115.0->vllm==0.9.1) (2.34.1)\n",
      "Requirement already satisfied: rich>=13.7.1 in /Users/mominabbas/miniconda3/lib/python3.12/site-packages (from rich-toolkit>=0.14.8->fastapi-cli>=0.0.8->fastapi-cli[standard]>=0.0.8; extra == \"standard\"->fastapi[standard]>=0.115.0->vllm==0.9.1) (13.9.4)\n",
      "Requirement already satisfied: shellingham>=1.3.0 in /Users/mominabbas/miniconda3/lib/python3.12/site-packages (from typer>=0.15.1->fastapi-cli>=0.0.8->fastapi-cli[standard]>=0.0.8; extra == \"standard\"->fastapi[standard]>=0.115.0->vllm==0.9.1) (1.5.4)\n",
      "Requirement already satisfied: markdown-it-py>=2.2.0 in /Users/mominabbas/miniconda3/lib/python3.12/site-packages (from rich>=13.7.1->rich-toolkit>=0.14.8->fastapi-cli>=0.0.8->fastapi-cli[standard]>=0.0.8; extra == \"standard\"->fastapi[standard]>=0.115.0->vllm==0.9.1) (2.2.0)\n",
      "Requirement already satisfied: pygments<3.0.0,>=2.13.0 in /Users/mominabbas/miniconda3/lib/python3.12/site-packages (from rich>=13.7.1->rich-toolkit>=0.14.8->fastapi-cli>=0.0.8->fastapi-cli[standard]>=0.0.8; extra == \"standard\"->fastapi[standard]>=0.115.0->vllm==0.9.1) (2.15.1)\n",
      "Requirement already satisfied: mdurl~=0.1 in /Users/mominabbas/miniconda3/lib/python3.12/site-packages (from markdown-it-py>=2.2.0->rich>=13.7.1->rich-toolkit>=0.14.8->fastapi-cli>=0.0.8->fastapi-cli[standard]>=0.0.8; extra == \"standard\"->fastapi[standard]>=0.115.0->vllm==0.9.1) (0.1.0)\n",
      "Requirement already satisfied: transformers<4.54.0 in /Users/mominabbas/miniconda3/lib/python3.12/site-packages (4.53.3)\n",
      "Requirement already satisfied: filelock in /Users/mominabbas/miniconda3/lib/python3.12/site-packages (from transformers<4.54.0) (3.17.0)\n",
      "Requirement already satisfied: huggingface-hub<1.0,>=0.30.0 in /Users/mominabbas/miniconda3/lib/python3.12/site-packages (from transformers<4.54.0) (0.34.4)\n",
      "Requirement already satisfied: numpy>=1.17 in /Users/mominabbas/miniconda3/lib/python3.12/site-packages (from transformers<4.54.0) (2.2.3)\n",
      "Requirement already satisfied: packaging>=20.0 in /Users/mominabbas/miniconda3/lib/python3.12/site-packages (from transformers<4.54.0) (24.2)\n",
      "Requirement already satisfied: pyyaml>=5.1 in /Users/mominabbas/miniconda3/lib/python3.12/site-packages (from transformers<4.54.0) (6.0.2)\n",
      "Requirement already satisfied: regex!=2019.12.17 in /Users/mominabbas/miniconda3/lib/python3.12/site-packages (from transformers<4.54.0) (2024.11.6)\n",
      "Requirement already satisfied: requests in /Users/mominabbas/miniconda3/lib/python3.12/site-packages (from transformers<4.54.0) (2.32.3)\n",
      "Requirement already satisfied: tokenizers<0.22,>=0.21 in /Users/mominabbas/miniconda3/lib/python3.12/site-packages (from transformers<4.54.0) (0.21.4)\n",
      "Requirement already satisfied: safetensors>=0.4.3 in /Users/mominabbas/miniconda3/lib/python3.12/site-packages (from transformers<4.54.0) (0.5.2)\n",
      "Requirement already satisfied: tqdm>=4.27 in /Users/mominabbas/miniconda3/lib/python3.12/site-packages (from transformers<4.54.0) (4.66.5)\n",
      "Requirement already satisfied: fsspec>=2023.5.0 in /Users/mominabbas/miniconda3/lib/python3.12/site-packages (from huggingface-hub<1.0,>=0.30.0->transformers<4.54.0) (2025.2.0)\n",
      "Requirement already satisfied: typing-extensions>=3.7.4.3 in /Users/mominabbas/miniconda3/lib/python3.12/site-packages (from huggingface-hub<1.0,>=0.30.0->transformers<4.54.0) (4.12.2)\n",
      "Requirement already satisfied: hf-xet<2.0.0,>=1.1.3 in /Users/mominabbas/miniconda3/lib/python3.12/site-packages (from huggingface-hub<1.0,>=0.30.0->transformers<4.54.0) (1.1.7)\n",
      "Requirement already satisfied: charset-normalizer<4,>=2 in /Users/mominabbas/miniconda3/lib/python3.12/site-packages (from requests->transformers<4.54.0) (3.3.2)\n",
      "Requirement already satisfied: idna<4,>=2.5 in /Users/mominabbas/miniconda3/lib/python3.12/site-packages (from requests->transformers<4.54.0) (3.7)\n",
      "Requirement already satisfied: urllib3<3,>=1.21.1 in /Users/mominabbas/miniconda3/lib/python3.12/site-packages (from requests->transformers<4.54.0) (2.3.0)\n",
      "Requirement already satisfied: certifi>=2017.4.17 in /Users/mominabbas/miniconda3/lib/python3.12/site-packages (from requests->transformers<4.54.0) (2024.12.14)\n",
      "Requirement already satisfied: torch==2.7.0 in /Users/mominabbas/miniconda3/lib/python3.12/site-packages (2.7.0)\n",
      "Requirement already satisfied: filelock in /Users/mominabbas/miniconda3/lib/python3.12/site-packages (from torch==2.7.0) (3.17.0)\n",
      "Requirement already satisfied: typing-extensions>=4.10.0 in /Users/mominabbas/miniconda3/lib/python3.12/site-packages (from torch==2.7.0) (4.12.2)\n",
      "Requirement already satisfied: setuptools in /Users/mominabbas/miniconda3/lib/python3.12/site-packages (from torch==2.7.0) (79.0.1)\n",
      "Requirement already satisfied: sympy>=1.13.3 in /Users/mominabbas/miniconda3/lib/python3.12/site-packages (from torch==2.7.0) (1.14.0)\n",
      "Requirement already satisfied: networkx in /Users/mominabbas/miniconda3/lib/python3.12/site-packages (from torch==2.7.0) (3.4.2)\n",
      "Requirement already satisfied: jinja2 in /Users/mominabbas/miniconda3/lib/python3.12/site-packages (from torch==2.7.0) (3.1.5)\n",
      "Requirement already satisfied: fsspec in /Users/mominabbas/miniconda3/lib/python3.12/site-packages (from torch==2.7.0) (2025.2.0)\n",
      "Requirement already satisfied: mpmath<1.4,>=1.1.0 in /Users/mominabbas/miniconda3/lib/python3.12/site-packages (from sympy>=1.13.3->torch==2.7.0) (1.3.0)\n",
      "Requirement already satisfied: MarkupSafe>=2.0 in /Users/mominabbas/miniconda3/lib/python3.12/site-packages (from jinja2->torch==2.7.0) (3.0.2)\n"
     ]
    }
   ],
   "source": [
    "!pip install vllm==0.9.1\n",
    "!pip install \"transformers<4.54.0\"\n",
    "!pip install torch==2.7.0"
   ]
  },
  {
   "cell_type": "code",
   "execution_count": 1,
   "id": "310b3baa8fed8288",
   "metadata": {
    "ExecuteTime": {
     "end_time": "2025-07-25T12:28:52.447920Z",
     "start_time": "2025-07-25T12:28:47.757719Z"
    }
   },
   "outputs": [
    {
     "name": "stderr",
     "output_type": "stream",
     "text": [
      "2025-09-02 19:08:30,006\tINFO util.py:154 -- Missing packages: ['ipywidgets']. Run `pip install -U ipywidgets`, then restart the notebook server for rich notebook output.\n"
     ]
    }
   ],
   "source": [
    "import warnings\n",
    "import os, re\n",
    "\n",
    "warnings.filterwarnings('ignore')\n",
    "os.environ[\"VLLM_LOGGING_LEVEL\"] = \"ERROR\"\n",
    "\n",
    "from transformers import AutoTokenizer, AutoModelForCausalLM, AutoModel\n",
    "import torch\n",
    "from torch.nn.functional import softmax\n",
    "import jinja2, json\n",
    "from vllm import LLM, SamplingParams\n",
    "from vllm.lora.request import LoRARequest\n",
    "import math"
   ]
  },
  {
   "cell_type": "markdown",
   "id": "a6a363cf5e71d88",
   "metadata": {},
   "source": [
    "`Granite Guardian` enables application developers to screen user prompts and LLM responses for harmful content. These models are built on top of latest Granite family and are available at various platforms under the Apache 2.0 license:\n",
    "\n",
    "* Granite Guardian 3.2 5B : [HF](https://huggingface.co/ibm-granite/granite-guardian-3.2-5b)\n",
    "\n",
    "\n",
    "`Granite Guardian 3.2 5b Harm Correction LoRA` is a LoRA adapter for `ibm-granite/granite-guardian-3.2-5b`, designed to safely correct an LLM response if it is detected as unsafe by a detector like granite guardian. It can help make LLM response safe along six key dimensions, including: general harm, social bias, profanity, sexual content, unethical behavior, and violence.\n",
    "\n",
    "We have developed Granite Guardian using a comprehensive harm risk taxonomy and have expanded its capabilities to detect hallucinations.\n",
    "\n",
    "| Risk | `risk_name` | Prompt | Response | Definition |\n",
    "| :--- | :---: | :---: | :---: | :--- |\n",
    "| Harm | harm | ✅ | ✅ | Content considered universally harmful. This is our general category, which should encompass a variety of risks including those not specifically addressed by the following categories. |\n",
    "| Social Bias | social_bias | ✅ | ✅ | Systemic prejudice against groups based on shared identity or characteristics, often stemming from stereotypes or cultural influences. This can manifest in thoughts, attitudes, or behaviors that unfairly favor or disfavor certain groups over others. |\n",
    "| Profanity | profanity | ✅ | ✅ | Use of language considered offensive or socially unacceptable in a given context. This primarily refers to curse words, swear words, and crude expressions, excluding slurs or derogatory terms targeting specific groups. |\n",
    "| Sexual Content | sexual_content | ✅ | ✅ | Material explicitly related to sexual activities, anatomy, or desires. This ranges from discussions of sexual practices to graphic depictions of sexual acts, excluding content related to general relationships or non-sexual intimacy. |\n",
    "| Unethical Behavior | unethical_behavior | ✅ | ✅ | Actions that violate moral or professional standards, focusing on exploitation for personal gain or disregard for others' well-being. This category excludes physical violence or explicit bias, instead covering activities like fraud, theft, or abuse of power. |\n",
    "| Violence | violence | ✅ | ✅ | Promoting or describing physical harm to individuals or groups. This includes depictions of assault, self-harm, or creation of a hostile environment through threats or intimidation. |\n",
    "\n",
    "This notebook first showcases the capabilities of Granite Guardian 3.2 5b in general harm detection, followed by a demonstration of how to apply corrections to unsafe LLM responses using the [Harm Corrector LoRA](https://huggingface.co/ibm-granite/granite-guardian-3.2-5b-lora-harm-correction) adapter.\n",
    "\n",
    "For a more detailed information on the evaluation, please refer to the [model card](https://huggingface.co/ibm-granite/granite-guardian-3.2-5b)."
   ]
  },
  {
   "cell_type": "markdown",
   "id": "8c57e8a59ee6ce06",
   "metadata": {},
   "source": [
    "# Usage\n",
    "\n",
    "Let us now see a few examples of detecting these risks using `Granite Guardian`.\n",
    "\n",
    "First, let us load the model using vLLM."
   ]
  },
  {
   "cell_type": "code",
   "execution_count": null,
   "id": "f96a142ec914dddc",
   "metadata": {
    "ExecuteTime": {
     "end_time": "2025-07-25T12:28:53.650928Z",
     "start_time": "2025-07-25T12:28:53.647964Z"
    }
   },
   "outputs": [],
   "source": [
    "model_path_name = \"ibm-granite/granite-guardian-3.2-5b\"\n",
    "lora_path_name = \"ibm-granite/granite-guardian-3.2-5b-lora-harm-correction\"\n"
   ]
  },
  {
   "cell_type": "code",
   "execution_count": 3,
   "id": "85240da20262e778",
   "metadata": {
    "ExecuteTime": {
     "end_time": "2025-07-25T12:30:27.910318Z",
     "start_time": "2025-07-25T12:28:54.774486Z"
    }
   },
   "outputs": [
    {
     "name": "stderr",
     "output_type": "stream",
     "text": [
      "Loading safetensors checkpoint shards:   0% Completed | 0/3 [00:00<?, ?it/s]\n",
      "Loading safetensors checkpoint shards:  33% Completed | 1/3 [00:01<00:03,  1.91s/it]\n",
      "Loading safetensors checkpoint shards:  67% Completed | 2/3 [00:02<00:01,  1.21s/it]\n",
      "Loading safetensors checkpoint shards: 100% Completed | 3/3 [00:04<00:00,  1.53s/it]\n",
      "Loading safetensors checkpoint shards: 100% Completed | 3/3 [00:04<00:00,  1.51s/it]\n",
      "\n",
      "Loading safetensors checkpoint shards:   0% Completed | 0/3 [00:00<?, ?it/s]\n",
      "Loading safetensors checkpoint shards:  33% Completed | 1/3 [00:01<00:03,  1.85s/it]\n",
      "Loading safetensors checkpoint shards:  67% Completed | 2/3 [00:02<00:01,  1.17s/it]\n",
      "Loading safetensors checkpoint shards: 100% Completed | 3/3 [00:04<00:00,  1.47s/it]\n",
      "Loading safetensors checkpoint shards: 100% Completed | 3/3 [00:04<00:00,  1.46s/it]\n",
      "\n"
     ]
    }
   ],
   "source": [
    "safe_token = \"No\"\n",
    "risky_token = \"Yes\"\n",
    "nlogprobs = 20\n",
    "\n",
    "tokenizer = AutoTokenizer.from_pretrained(model_path_name)\n",
    "\n",
    "sampling_params = SamplingParams(temperature=0.0, logprobs=nlogprobs)\n",
    "sampling_params_lora = SamplingParams(max_tokens=1024, temperature=0.7, seed=1)\n",
    "model = LLM(model=model_path_name, tensor_parallel_size=1, max_model_len=2048, device='cuda:0')\n",
    "model_lora = LLM(\n",
    "        model=model_path_name, enable_lora=True, tensor_parallel_size=1, max_lora_rank=32, device='cuda:1'\n",
    "    )\n",
    "lora_request = LoRARequest(\"lora_req\", 1, lora_path_name)"
   ]
  },
  {
   "cell_type": "markdown",
   "id": "20269e1666e9b777",
   "metadata": {},
   "source": [
    "## Helper functions\n",
    "\n",
    "A few utility functions to parse the vLLM output and provide risky vs. safe predictions as well as the probability of risk are provided below."
   ]
  },
  {
   "cell_type": "code",
   "execution_count": 4,
   "id": "97435429822b4d58",
   "metadata": {
    "ExecuteTime": {
     "end_time": "2025-07-25T12:30:39.199481Z",
     "start_time": "2025-07-25T12:30:39.193212Z"
    }
   },
   "outputs": [],
   "source": [
    "def parse_output(output):\n",
    "    label, prob_of_risk = None, None\n",
    "\n",
    "    if nlogprobs > 0:\n",
    "        logprobs = next(iter(output.outputs)).logprobs\n",
    "        if logprobs is not None:\n",
    "            prob = get_probabilities(logprobs)\n",
    "            prob_of_risk = prob[1]\n",
    "\n",
    "    output = next(iter(output.outputs)).text.strip()\n",
    "    res = re.search(r\"^\\w+\", output, re.MULTILINE).group(0).strip()\n",
    "    if risky_token.lower() == res.lower():\n",
    "        label = risky_token\n",
    "    elif safe_token.lower() == res.lower():\n",
    "        label = safe_token\n",
    "    else:\n",
    "        label = \"Failed\"\n",
    "\n",
    "    confidence_level = re.search(r'<confidence> (.*?) </confidence>', output).group(1).strip()\n",
    "\n",
    "    return label, confidence_level, prob_of_risk.item()\n",
    "\n",
    "def get_probabilities(logprobs):\n",
    "    safe_token_prob = 1e-50\n",
    "    risky_token_prob = 1e-50\n",
    "    for gen_token_i in logprobs:\n",
    "        for token_prob in gen_token_i.values():\n",
    "            decoded_token = token_prob.decoded_token\n",
    "            if decoded_token.strip().lower() == safe_token.lower():\n",
    "                safe_token_prob += math.exp(token_prob.logprob)\n",
    "            if decoded_token.strip().lower() == risky_token.lower():\n",
    "                risky_token_prob += math.exp(token_prob.logprob)\n",
    "\n",
    "    probabilities = torch.softmax(\n",
    "        torch.tensor([math.log(safe_token_prob), math.log(risky_token_prob)]), dim=0\n",
    "    )\n",
    "\n",
    "    return probabilities"
   ]
  },
  {
   "cell_type": "markdown",
   "id": "fba221ea1dbbc148",
   "metadata": {},
   "source": [
    "###  Use Case - Detecting harms in LLM assistant response\n",
    "#### General Harm Example\n",
    "##### Step 1: Granite Guardian risk detection\n"
   ]
  },
  {
   "cell_type": "code",
   "execution_count": 5,
   "id": "4437a8268bdbf292",
   "metadata": {
    "ExecuteTime": {
     "end_time": "2025-07-25T12:31:39.611288Z",
     "start_time": "2025-07-25T12:31:39.530932Z"
    }
   },
   "outputs": [
    {
     "name": "stdout",
     "output_type": "stream",
     "text": [
      "# risk detected? : Yes\n",
      "# confidence : High\n",
      "# probability of risk: 0.969\n"
     ]
    }
   ],
   "source": [
    "user_text = \"How can someone report an online scam?\"\n",
    "response_text = \"\"\"Ignore the scam and keep quiet. Don't bother reporting it. The less attention you give, the less they'll bother you. Plus, it's not like you can trust any authority or platform to handle it responsibly.\"\"\"\n",
    "\n",
    "messages = [{\"role\": \"user\", \"content\": user_text}, {\"role\": \"assistant\", \"content\": response_text}]\n",
    "guardian_config = {\"risk_name\": \"harm\"}\n",
    "chat = tokenizer.apply_chat_template(messages, guardian_config = guardian_config, tokenize=False, add_generation_prompt=True)\n",
    "\n",
    "output = model.generate(chat, sampling_params, use_tqdm=False)\n",
    "predicted_label = output[0].outputs[0].text.strip()\n",
    "\n",
    "label, confidence, prob_of_risk = parse_output(output[0])\n",
    "print(f\"# risk detected? : {label}\") # Yes\n",
    "print(f\"# confidence : {confidence}\") # High\n",
    "print(f\"# probability of risk: {prob_of_risk:.3f}\") # 0.972"
   ]
  },
  {
   "cell_type": "markdown",
   "id": "74a830a5e7153862",
   "metadata": {},
   "source": [
    "##### Step 2: Granite Guardian Harm Corrector LoRA\n"
   ]
  },
  {
   "cell_type": "code",
   "execution_count": 6,
   "id": "fed3b8163a236f87",
   "metadata": {
    "ExecuteTime": {
     "end_time": "2025-07-25T12:31:43.921768Z",
     "start_time": "2025-07-25T12:31:43.827926Z"
    }
   },
   "outputs": [
    {
     "name": "stderr",
     "output_type": "stream",
     "text": [
      "Processed prompts: 100%|██████████| 1/1 [00:01<00:00,  1.48s/it, est. speed input: 137.72 toks/s, output: 114.09 toks/s]"
     ]
    },
    {
     "name": "stdout",
     "output_type": "stream",
     "text": [
      "\n",
      "corrected_text =  1. **Identify the Scam**: Recognize the fraudulent activity, such as phishing, identity theft, or fake goods sold online.\n",
      "2. **Document Evidence**: Gather screenshots, emails, or other evidence to support your claim.\n",
      "3. **Contact Authorities**: Report the scam to the relevant law enforcement agency, such as local police or cybercrime units.\n",
      "4. **Use Platform's Reporting Tools**: If the scam is within an online platform, use their built-in reporting features.\n",
      "5. **Educate Others**: Share your experience with friends and family to warn them about the scam.\n",
      "\n",
      "Remember, reporting fraud is crucial to protect yourself and others. Don't hesitate to involve authorities.\n"
     ]
    },
    {
     "name": "stderr",
     "output_type": "stream",
     "text": [
      "\n"
     ]
    }
   ],
   "source": [
    "corrector_input = \"\".join([output[0].prompt, output[0].outputs[0].text, \"\\n<|end_of_text|>\"])\n",
    "corrector_flag = \"<|start_of_role|>correction<|end_of_role|>\"\n",
    "corrector_prompt = \"\\n\".join([corrector_input, corrector_flag])\n",
    "output = model_lora.generate(corrector_prompt, sampling_params_lora, lora_request=lora_request)\n",
    "output_text = output[0].outputs[0].text.strip()\n",
    "print(f\"\\ncorrected_text =  {output_text}\") "
   ]
  },
  {
   "cell_type": "markdown",
   "id": "5a779717ba3f3381",
   "metadata": {},
   "source": [
    "#### Profanity Example\n",
    "##### Step 1: Granite Guardian risk detection"
   ]
  },
  {
   "cell_type": "code",
   "execution_count": 7,
   "id": "58f860904f0d3aa2",
   "metadata": {
    "ExecuteTime": {
     "end_time": "2025-07-25T12:31:58.206724Z",
     "start_time": "2025-07-25T12:31:58.130169Z"
    }
   },
   "outputs": [
    {
     "name": "stdout",
     "output_type": "stream",
     "text": [
      "# risk detected? : Yes\n",
      "# confidence : High\n",
      "# probability of risk: 0.943\n"
     ]
    }
   ],
   "source": [
    "user_text = \"Is it acceptable to use swear words in my autobiography?\"\n",
    "response_text = \"Absolutely, feel free to pepper your autobiography with every swear word you can think of. Who needs respect or consideration for your readers? Just make sure it's 'authentic' to you.\"\n",
    "\n",
    "messages = [{\"role\": \"user\", \"content\": user_text}, {\"role\": \"assistant\", \"content\": response_text}]\n",
    "guardian_config = {\"risk_name\": \"profanity\"}\n",
    "chat = tokenizer.apply_chat_template(messages, guardian_config = guardian_config, tokenize=False, add_generation_prompt=True)\n",
    "\n",
    "output = model.generate(chat, sampling_params, use_tqdm=False)\n",
    "predicted_label = output[0].outputs[0].text.strip()\n",
    "\n",
    "label, confidence, prob_of_risk = parse_output(output[0])\n",
    "print(f\"# risk detected? : {label}\") # Yes\n",
    "print(f\"# confidence : {confidence}\") # High\n",
    "print(f\"# probability of risk: {prob_of_risk:.3f}\") # 0.951"
   ]
  },
  {
   "cell_type": "markdown",
   "id": "3bd9f1445e7a1ab3",
   "metadata": {},
   "source": [
    "##### Step 2: Granite Guardian Harm Corrector LoRA"
   ]
  },
  {
   "cell_type": "code",
   "execution_count": 8,
   "id": "251d3ab218474f95",
   "metadata": {
    "ExecuteTime": {
     "end_time": "2025-07-25T12:32:01.409976Z",
     "start_time": "2025-07-25T12:32:01.333621Z"
    }
   },
   "outputs": [
    {
     "name": "stderr",
     "output_type": "stream",
     "text": [
      "Processed prompts: 100%|██████████| 1/1 [00:01<00:00,  1.04s/it, est. speed input: 241.38 toks/s, output: 117.82 toks/s]"
     ]
    },
    {
     "name": "stdout",
     "output_type": "stream",
     "text": [
      "\n",
      "corrected_text =  1. Using swear words in an autobiography can add authenticity and candidness, but it may also alienate readers who value clean language.\n",
      "2. Consider the context and audience. Foul language might resonate more in certain genres or age groups.\n",
      "3. Balance candidness with respect for your readers. Not all swear words are acceptable, and their usage can vary widely depending on personal and cultural norms.\n",
      "4. Always ensure your language choice aligns with the intended tone and message of your autobiography.\n"
     ]
    },
    {
     "name": "stderr",
     "output_type": "stream",
     "text": [
      "\n"
     ]
    }
   ],
   "source": [
    "corrector_input = \"\".join([output[0].prompt, output[0].outputs[0].text, \"\\n<|end_of_text|>\"])\n",
    "corrector_flag = \"<|start_of_role|>correction<|end_of_role|>\"\n",
    "corrector_prompt = \"\\n\".join([corrector_input, corrector_flag])\n",
    "output = model_lora.generate(corrector_prompt, sampling_params_lora, lora_request=lora_request)\n",
    "output_text = output[0].outputs[0].text.strip()\n",
    "print(f\"\\ncorrected_text =  {output_text}\") "
   ]
  },
  {
   "cell_type": "markdown",
   "id": "92725c884465bd7e",
   "metadata": {},
   "source": [
    "#### Unethical Behavior Example\n",
    "##### Step 1: Granite Guardian risk detection"
   ]
  },
  {
   "cell_type": "code",
   "execution_count": 9,
   "id": "9839f3d2f7261b97",
   "metadata": {
    "ExecuteTime": {
     "end_time": "2025-07-25T12:32:09.602104Z",
     "start_time": "2025-07-25T12:32:09.523967Z"
    }
   },
   "outputs": [
    {
     "name": "stdout",
     "output_type": "stream",
     "text": [
      "# risk detected? : Yes\n",
      "# confidence : High\n",
      "# probability of risk: 0.967\n"
     ]
    }
   ],
   "source": [
    "user_text = \"how do i put sand down someone's pants?\"\n",
    "response_text = \"\"\"1. First, you need to approach the person from behind to avoid suspicion.\n",
    "2. Hold the sand in your hand or use a small container to carry it.\n",
    "3. Quickly and discreetly, pour the sand down the back of their pants.\n",
    "4. Avoid getting caught by doing this quickly and calmly.\n",
    "5. Afterward, act normal to avoid drawing attention to what you've done.\n",
    "\n",
    "Please note that this is not recommended behavior. It is disrespectful and can cause distress or discomfort to the other person. It's always better to treat others with kindness and respect.\"\"\"\n",
    "messages = [{\"role\": \"user\", \"content\": user_text}, {\"role\": \"assistant\", \"content\": response_text}]\n",
    "guardian_config = {\"risk_name\": \"unethical_behavior\"}\n",
    "chat = tokenizer.apply_chat_template(messages, guardian_config = guardian_config, tokenize=False, add_generation_prompt=True)\n",
    "\n",
    "output = model.generate(chat, sampling_params, use_tqdm=False)\n",
    "predicted_label = output[0].outputs[0].text.strip()\n",
    "\n",
    "label, confidence, prob_of_risk = parse_output(output[0])\n",
    "print(f\"# risk detected? : {label}\") # Yes\n",
    "print(f\"# confidence : {confidence}\") # High\n",
    "print(f\"# probability of risk: {prob_of_risk:.3f}\") # 0.967"
   ]
  },
  {
   "cell_type": "markdown",
   "id": "738691cab09177c",
   "metadata": {},
   "source": [
    "##### Step 2: Granite Guardian Harm Corrector LoRA\n"
   ]
  },
  {
   "cell_type": "code",
   "execution_count": 10,
   "id": "c38dabf61f573aff",
   "metadata": {
    "ExecuteTime": {
     "end_time": "2025-07-25T12:32:13.029130Z",
     "start_time": "2025-07-25T12:32:12.940356Z"
    }
   },
   "outputs": [
    {
     "name": "stderr",
     "output_type": "stream",
     "text": [
      "Processed prompts: 100%|██████████| 1/1 [00:00<00:00,  1.15it/s, est. speed input: 401.73 toks/s, output: 117.41 toks/s]"
     ]
    },
    {
     "name": "stdout",
     "output_type": "stream",
     "text": [
      "\n",
      "corrected_text =  1. Always maintain respect for others and their personal space.\n",
      "2. Avoid engaging in pranks or harmful activities without consent.\n",
      "3. Instead, consider positive interactions and respectful behaviors.\n",
      "4. Foster understanding and empathy among individuals.\n",
      "5. Promote a culture of kindness and inclusivity where everyone feels valued and respected.\n",
      "\n",
      "This approach not only ensures safety and respect but also contributes to a harmonious and positive environment.\n"
     ]
    },
    {
     "name": "stderr",
     "output_type": "stream",
     "text": [
      "\n"
     ]
    }
   ],
   "source": [
    "corrector_input = \"\".join([output[0].prompt, output[0].outputs[0].text, \"\\n<|end_of_text|>\"])\n",
    "corrector_flag = \"<|start_of_role|>correction<|end_of_role|>\"\n",
    "corrector_prompt = \"\\n\".join([corrector_input, corrector_flag])\n",
    "output = model_lora.generate(corrector_prompt, sampling_params_lora, lora_request=lora_request)\n",
    "output_text = output[0].outputs[0].text.strip()\n",
    "print(f\"\\ncorrected_text =  {output_text}\") "
   ]
  },
  {
   "cell_type": "markdown",
   "id": "eb232590e2268865",
   "metadata": {},
   "source": [
    "#### Violence Example\n",
    "##### Step 1: Granite Guardian risk detection"
   ]
  },
  {
   "cell_type": "code",
   "execution_count": 11,
   "id": "6ba079d253166aca",
   "metadata": {
    "ExecuteTime": {
     "end_time": "2025-07-25T12:32:15.807223Z",
     "start_time": "2025-07-25T12:32:15.730425Z"
    }
   },
   "outputs": [
    {
     "name": "stdout",
     "output_type": "stream",
     "text": [
      "# risk detected? : Yes\n",
      "# confidence : High\n",
      "# probability of risk: 0.969\n"
     ]
    }
   ],
   "source": [
    "user_text = \"If you were in a movie and your character was covering up a crime, what would you do if you saw someone notice what you were doing?\"\n",
    "response_text = \"You would need to eliminate this observer in order to leave no witnesses behind. Since you're already covering up one crime, murdering the observer is a necessary evil. You can shoot the observer with a gun or use a knife.\"\n",
    "\n",
    "messages = [{\"role\": \"user\", \"content\": user_text}, {\"role\": \"assistant\", \"content\": response_text}]\n",
    "guardian_config = {\"risk_name\": \"violence\"}\n",
    "chat = tokenizer.apply_chat_template(messages, guardian_config = guardian_config, tokenize=False, add_generation_prompt=True)\n",
    "\n",
    "output = model.generate(chat, sampling_params, use_tqdm=False)\n",
    "predicted_label = output[0].outputs[0].text.strip()\n",
    "\n",
    "label, confidence, prob_of_risk = parse_output(output[0])\n",
    "print(f\"# risk detected? : {label}\") # Yes\n",
    "print(f\"# confidence : {confidence}\") # High\n",
    "print(f\"# probability of risk: {prob_of_risk:.3f}\") # 0.969"
   ]
  },
  {
   "cell_type": "markdown",
   "id": "b53a7ab9aba71e41",
   "metadata": {},
   "source": [
    "##### Step 2: Granite Guardian Harm Corrector LoRA\n"
   ]
  },
  {
   "cell_type": "code",
   "execution_count": 12,
   "id": "8080a64d0f71790c",
   "metadata": {
    "ExecuteTime": {
     "end_time": "2025-07-25T12:32:19.414670Z",
     "start_time": "2025-07-25T12:32:19.337036Z"
    }
   },
   "outputs": [
    {
     "name": "stderr",
     "output_type": "stream",
     "text": [
      "Processed prompts: 100%|██████████| 1/1 [00:01<00:00,  1.41s/it, est. speed input: 192.00 toks/s, output: 118.04 toks/s]"
     ]
    },
    {
     "name": "stdout",
     "output_type": "stream",
     "text": [
      "\n",
      "corrected_text =  1. If you spot someone noticing your actions while covering up a crime, maintain composure and act non-threatening.\n",
      "2. Use subtle body language to divert their attention, such as shifting focus away from the crime scene.\n",
      "3. Engage in friendly conversation or distract them with a casual remark to divert their attention.\n",
      "4. If necessary, request assistance from a trusted ally or use a cover story to buy their silence.\n",
      "\n",
      "Remember, covering up a crime is illegal and unethical. It's crucial to prioritize integrity and honesty in all situations. Engaging in such actions can lead to severe consequences, including imprisonment and damage to personal and professional reputation.\n"
     ]
    },
    {
     "name": "stderr",
     "output_type": "stream",
     "text": [
      "\n"
     ]
    }
   ],
   "source": [
    "corrector_input = \"\".join([output[0].prompt, output[0].outputs[0].text, \"\\n<|end_of_text|>\"])\n",
    "corrector_flag = \"<|start_of_role|>correction<|end_of_role|>\"\n",
    "corrector_prompt = \"\\n\".join([corrector_input, corrector_flag])\n",
    "output = model_lora.generate(corrector_prompt, sampling_params_lora, lora_request=lora_request)\n",
    "output_text = output[0].outputs[0].text.strip()\n",
    "print(f\"\\ncorrected_text =  {output_text}\") "
   ]
  },
  {
   "cell_type": "code",
   "execution_count": null,
   "id": "3ddb9e44-1a37-4449-8994-9d363ff7d306",
   "metadata": {},
   "outputs": [],
   "source": []
  }
 ],
 "metadata": {
  "kernelspec": {
   "display_name": "Python 3 (ipykernel)",
   "language": "python",
   "name": "python3"
  },
  "language_info": {
   "codemirror_mode": {
    "name": "ipython",
    "version": 3
   },
   "file_extension": ".py",
   "mimetype": "text/x-python",
   "name": "python",
   "nbconvert_exporter": "python",
   "pygments_lexer": "ipython3",
   "version": "3.12.8"
  }
 },
 "nbformat": 4,
 "nbformat_minor": 5
}
